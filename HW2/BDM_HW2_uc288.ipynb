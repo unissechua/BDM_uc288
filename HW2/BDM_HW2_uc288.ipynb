{
 "cells": [
  {
   "cell_type": "markdown",
   "metadata": {},
   "source": [
    "# HW2 \n",
    "*Unisse Chua - uc288*\n",
    "\n",
    "Your task is to compute the number of restaurants per each cuisine using the provided nyc_restaurant_inspections.csv data set. The CSV file is available for download under the Data Sets page on NYU Classes. The cuisine type can be extracted from the \"CUISINE DESCRIPTION\" column. Note that, a single restaurant may be inspected multiple times. You must use the \"CAMIS\" column to keep only unique restaurants while computing the number of restaurants per cuisine.\n",
    "\n",
    "You MUST turn in a Spark notebook, AND a Spark script that works on the NYU Dumbo cluster. For your script, the input and out file path should be specified through the command line. Basically, I should be able to run your script as:\n",
    "\n",
    "spark-submit YOUR_SCRIPT.py nyc_restaurant_inspections.csv output_folder\n",
    "\n",
    "and it will produce an output on HDFS under output_folder.\n",
    "\n",
    "Using \"hadoop fs -getmerge\" or through the notebook, I should get the expected output similar to the below:\n",
    "\n",
    "```python\n",
    "[('American', 6002),\n",
    " ('Chinese', 2399),\n",
    " ('Cafe', 1629),\n",
    " ('Other', 1296),\n",
    " ('Pizza', 1186),\n",
    " ('Italian', 1016),\n",
    " ('Mexican', 877),\n",
    " ('Japanese', 859),\n",
    " ('Latin (Cuban, Dominican, Puerto Rican, South & Central American)', 840),\n",
    " ('Bakery', 733),\n",
    " ('Caribbean', 671),\n",
    " ('Spanish', 644),\n",
    " ('Donuts', 537),\n",
    " ('Pizza/Italian', 483),\n",
    " ('Chicken', 456),\n",
    " ('Sandwiches', 406),\n",
    " ('Juice, Smoothies, Fruit Salads', 382),\n",
    " ('Hamburgers', 378),\n",
    " ('Asian', 371),\n",
    " ('Ice Cream, Gelato, Yogurt, Ices', 339),\n",
    " ('Indian', 332),\n",
    " ('Jewish/Kosher', 327),\n",
    " ('French', 319),\n",
    " ('Delicatessen', 294),\n",
    " ('Thai', 286)]\n",
    "```"
   ]
  },
  {
   "cell_type": "code",
   "execution_count": 1,
   "metadata": {},
   "outputs": [
    {
     "data": {
      "text/html": [
       "\n",
       "        <div>\n",
       "            <p><b>SparkContext</b></p>\n",
       "\n",
       "            <p><a href=\"http://172-16-192-51.dynapool.nyu.edu:4040\">Spark UI</a></p>\n",
       "\n",
       "            <dl>\n",
       "              <dt>Version</dt>\n",
       "                <dd><code>v2.3.1</code></dd>\n",
       "              <dt>Master</dt>\n",
       "                <dd><code>local[*]</code></dd>\n",
       "              <dt>AppName</dt>\n",
       "                <dd><code>PySparkShell</code></dd>\n",
       "            </dl>\n",
       "        </div>\n",
       "        "
      ],
      "text/plain": [
       "<SparkContext master=local[*] appName=PySparkShell>"
      ]
     },
     "execution_count": 1,
     "metadata": {},
     "output_type": "execute_result"
    }
   ],
   "source": [
    "sc"
   ]
  },
  {
   "cell_type": "code",
   "execution_count": 2,
   "metadata": {},
   "outputs": [],
   "source": [
    "DATA = 'nyc_restaurant_inspections.csv'"
   ]
  },
  {
   "cell_type": "code",
   "execution_count": 3,
   "metadata": {},
   "outputs": [
    {
     "data": {
      "text/plain": [
       "[(0, 'CAMIS'),\n",
       " (1, 'DBA'),\n",
       " (2, 'BORO'),\n",
       " (3, 'BUILDING'),\n",
       " (4, 'STREET'),\n",
       " (5, 'ZIPCODE'),\n",
       " (6, 'PHONE'),\n",
       " (7, 'CUISINE DESCRIPTION'),\n",
       " (8, 'INSPECTION DATE'),\n",
       " (9, 'ACTION'),\n",
       " (10, 'VIOLATION CODE'),\n",
       " (11, 'VIOLATION DESCRIPTION'),\n",
       " (12, 'CRITICAL FLAG'),\n",
       " (13, 'SCORE'),\n",
       " (14, 'GRADE'),\n",
       " (15, 'GRADE DATE'),\n",
       " (16, 'RECORD DATE'),\n",
       " (17, 'INSPECTION TYPE')]"
      ]
     },
     "execution_count": 3,
     "metadata": {},
     "output_type": "execute_result"
    }
   ],
   "source": [
    "yelp = sc.textFile(DATA, use_unicode=True).cache()\n",
    "\n",
    "list(enumerate(yelp.first().split(',')))"
   ]
  },
  {
   "cell_type": "code",
   "execution_count": 4,
   "metadata": {},
   "outputs": [],
   "source": [
    "def extractCuisines(partId, list_of_records):\n",
    "    if partId==0: \n",
    "        next(list_of_records) # skipping the first line\n",
    "    import csv\n",
    "    reader = csv.reader(list_of_records)\n",
    "    for row in reader:\n",
    "        (cuisine, camis) = (row[7], row[0])\n",
    "        yield (cuisine, camis)\n",
    "\n",
    "cuisines = yelp.mapPartitionsWithIndex(extractCuisines)"
   ]
  },
  {
   "cell_type": "code",
   "execution_count": 5,
   "metadata": {},
   "outputs": [
    {
     "data": {
      "text/plain": [
       "[('Chicken', '50015075'),\n",
       " ('Jewish/Kosher', '40364529'),\n",
       " ('Caribbean', '41580756'),\n",
       " ('Italian', '50001255'),\n",
       " ('Korean', '50016437')]"
      ]
     },
     "execution_count": 5,
     "metadata": {},
     "output_type": "execute_result"
    }
   ],
   "source": [
    "cuisines.take(5)"
   ]
  },
  {
   "cell_type": "code",
   "execution_count": 6,
   "metadata": {},
   "outputs": [
    {
     "name": "stdout",
     "output_type": "stream",
     "text": [
      "379674\n"
     ]
    }
   ],
   "source": [
    "print(cuisines.count())"
   ]
  },
  {
   "cell_type": "code",
   "execution_count": 7,
   "metadata": {},
   "outputs": [],
   "source": [
    "# Use distinct to get the unique restaurant CAMIS per cuisine\n",
    "cuisineCounts = sorted(cuisines.distinct().countByKey().items(), key=lambda x: -x[1])"
   ]
  },
  {
   "cell_type": "code",
   "execution_count": 8,
   "metadata": {},
   "outputs": [
    {
     "data": {
      "text/plain": [
       "[('American', 6002),\n",
       " ('Chinese', 2399),\n",
       " ('CafÃ©/Coffee/Tea', 1629),\n",
       " ('Other', 1296),\n",
       " ('Pizza', 1186),\n",
       " ('Italian', 1016),\n",
       " ('Mexican', 877),\n",
       " ('Japanese', 859),\n",
       " ('Latin (Cuban, Dominican, Puerto Rican, South & Central American)', 840),\n",
       " ('Bakery', 733),\n",
       " ('Caribbean', 671),\n",
       " ('Spanish', 644),\n",
       " ('Donuts', 537),\n",
       " ('Pizza/Italian', 483),\n",
       " ('Chicken', 456),\n",
       " ('Sandwiches', 406),\n",
       " ('Juice, Smoothies, Fruit Salads', 382),\n",
       " ('Hamburgers', 378),\n",
       " ('Asian', 371),\n",
       " ('Ice Cream, Gelato, Yogurt, Ices', 339),\n",
       " ('Indian', 332),\n",
       " ('Jewish/Kosher', 327),\n",
       " ('French', 319),\n",
       " ('Delicatessen', 294),\n",
       " ('Thai', 286)]"
      ]
     },
     "execution_count": 8,
     "metadata": {},
     "output_type": "execute_result"
    }
   ],
   "source": [
    "cuisineCounts[0:25]"
   ]
  },
  {
   "cell_type": "code",
   "execution_count": null,
   "metadata": {},
   "outputs": [],
   "source": []
  }
 ],
 "metadata": {
  "kernelspec": {
   "display_name": "Python 3",
   "language": "python",
   "name": "python3"
  },
  "language_info": {
   "codemirror_mode": {
    "name": "ipython",
    "version": 3
   },
   "file_extension": ".py",
   "mimetype": "text/x-python",
   "name": "python",
   "nbconvert_exporter": "python",
   "pygments_lexer": "ipython3",
   "version": "3.6.2"
  }
 },
 "nbformat": 4,
 "nbformat_minor": 2
}
