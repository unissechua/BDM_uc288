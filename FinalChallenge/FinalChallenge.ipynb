{
 "cells": [
  {
   "cell_type": "code",
   "execution_count": 2,
   "metadata": {
    "ExecuteTime": {
     "end_time": "2018-08-03T11:44:46.891714Z",
     "start_time": "2018-08-03T11:44:46.884790Z"
    }
   },
   "outputs": [
    {
     "data": {
      "text/html": [
       "\n",
       "        <div>\n",
       "            <p><b>SparkContext</b></p>\n",
       "\n",
       "            <p><a href=\"http://192.168.86.23:4040\">Spark UI</a></p>\n",
       "\n",
       "            <dl>\n",
       "              <dt>Version</dt>\n",
       "                <dd><code>v2.3.1</code></dd>\n",
       "              <dt>Master</dt>\n",
       "                <dd><code>local[*]</code></dd>\n",
       "              <dt>AppName</dt>\n",
       "                <dd><code>PySparkShell</code></dd>\n",
       "            </dl>\n",
       "        </div>\n",
       "        "
      ],
      "text/plain": [
       "<SparkContext master=local[*] appName=PySparkShell>"
      ]
     },
     "execution_count": 2,
     "metadata": {},
     "output_type": "execute_result"
    }
   ],
   "source": [
    "sc"
   ]
  },
  {
   "cell_type": "code",
   "execution_count": 3,
   "metadata": {
    "ExecuteTime": {
     "end_time": "2018-08-03T11:44:48.074247Z",
     "start_time": "2018-08-03T11:44:47.199683Z"
    }
   },
   "outputs": [],
   "source": [
    "import fiona\n",
    "import fiona.crs\n",
    "import shapely\n",
    "import rtree\n",
    "\n",
    "import pandas as pd\n",
    "import geopandas as gpd\n",
    "from functools import partial"
   ]
  },
  {
   "cell_type": "code",
   "execution_count": 4,
   "metadata": {
    "ExecuteTime": {
     "end_time": "2018-08-03T11:44:48.569928Z",
     "start_time": "2018-08-03T11:44:48.565081Z"
    }
   },
   "outputs": [],
   "source": [
    "TWEETS_FN = 'tweets-100m.txt'\n",
    "DRUGS_FN = 'drug_*.txt'\n",
    "CITIES_FN = '500cities_tracts.geojson'"
   ]
  },
  {
   "cell_type": "code",
   "execution_count": 5,
   "metadata": {
    "ExecuteTime": {
     "end_time": "2018-08-03T11:44:51.706085Z",
     "start_time": "2018-08-03T11:44:49.229613Z"
    },
    "scrolled": true
   },
   "outputs": [
    {
     "data": {
      "text/plain": [
       "['450845003775234048|35.82840584|-78.58814956|MarkaelDupree|Tue Apr 01 03:59:59 +0000 2014|@RatedRnasty3_ haha hopefully !|haha hopefully',\n",
       " '450845003854536704|32.80947163|-116.91216669|darthraedar|Tue Apr 01 03:59:59 +0000 2014|@kenraldchua SAME|same',\n",
       " '450845003896479744|33.01608281|-97.30442766|hungrypoop|Tue Apr 01 03:59:59 +0000 2014|i wish i could play the moog synthesizer|could moog play synthesizer the wish',\n",
       " \"450845003904868354|41.61400034|-87.91314315|Socalfan21|Tue Apr 01 03:59:59 +0000 2014|@ChiBulls_Chris we can rewrite a script and reenact the show if you'd like.|and can like reenact rewrite script show the you\",\n",
       " '450845003925843968|30.1110886|-95.12464941|NikeZROking|Tue Apr 01 03:59:59 +0000 2014|@KKalbitz haha. Your dms are going to shut down twitter after tonight|after are dms down going haha shut tonight twitter your']"
      ]
     },
     "execution_count": 5,
     "metadata": {},
     "output_type": "execute_result"
    }
   ],
   "source": [
    "tweets = sc.textFile(TWEETS_FN, use_unicode=True).cache()\n",
    "tweets.take(5)"
   ]
  },
  {
   "cell_type": "code",
   "execution_count": 5,
   "metadata": {
    "ExecuteTime": {
     "end_time": "2018-07-29T19:12:16.245405Z",
     "start_time": "2018-07-29T19:12:16.023497Z"
    }
   },
   "outputs": [
    {
     "data": {
      "text/plain": [
       "26673"
      ]
     },
     "execution_count": 5,
     "metadata": {},
     "output_type": "execute_result"
    }
   ],
   "source": [
    "tweets.count()"
   ]
  },
  {
   "cell_type": "code",
   "execution_count": 6,
   "metadata": {
    "ExecuteTime": {
     "end_time": "2018-08-03T11:44:52.160950Z",
     "start_time": "2018-08-03T11:44:51.982299Z"
    },
    "scrolled": false
   },
   "outputs": [],
   "source": [
    "keywords = set(sc.textFile(DRUGS_FN, use_unicode=True).cache().collect())\n",
    "bTerms = sc.broadcast(keywords)"
   ]
  },
  {
   "cell_type": "code",
   "execution_count": 7,
   "metadata": {
    "ExecuteTime": {
     "end_time": "2018-07-29T19:12:16.778185Z",
     "start_time": "2018-07-29T19:12:16.389418Z"
    }
   },
   "outputs": [
    {
     "data": {
      "text/plain": [
       "[(6, 6), (3, 175), (1, 2611), (4, 37), (7, 1), (2, 763), (5, 16), (8, 1)]"
      ]
     },
     "execution_count": 7,
     "metadata": {},
     "output_type": "execute_result"
    }
   ],
   "source": [
    "def countWords(_, rows):\n",
    "    for row in rows:\n",
    "        words = row.split()\n",
    "        yield len(words), 1\n",
    "\n",
    "words = sc.textFile(DRUGS_FN, use_unicode=True).cache()\n",
    "words.mapPartitionsWithIndex(countWords).reduceByKey(lambda x, y: x+y).collect()"
   ]
  },
  {
   "cell_type": "code",
   "execution_count": 7,
   "metadata": {
    "ExecuteTime": {
     "end_time": "2018-08-03T11:44:56.952446Z",
     "start_time": "2018-08-03T11:44:56.828002Z"
    },
    "scrolled": false
   },
   "outputs": [
    {
     "data": {
      "text/plain": [
       "[((-78.58814956, 35.82840584),\n",
       "  ['',\n",
       "   ' ratedrnasty3_',\n",
       "   ' ratedrnasty3_ haha',\n",
       "   ' ratedrnasty3_ haha hopefully',\n",
       "   ' ratedrnasty3_ haha hopefully ',\n",
       "   'ratedrnasty3_',\n",
       "   'ratedrnasty3_ haha',\n",
       "   'ratedrnasty3_ haha hopefully',\n",
       "   'ratedrnasty3_ haha hopefully ',\n",
       "   'haha',\n",
       "   'haha hopefully',\n",
       "   'haha hopefully ',\n",
       "   'hopefully',\n",
       "   'hopefully ',\n",
       "   '']),\n",
       " ((-116.91216669, 32.80947163),\n",
       "  ['',\n",
       "   ' kenraldchua',\n",
       "   ' kenraldchua same',\n",
       "   'kenraldchua',\n",
       "   'kenraldchua same',\n",
       "   'same']),\n",
       " ((-97.30442766, 33.01608281),\n",
       "  ['i',\n",
       "   'i wish',\n",
       "   'i wish i',\n",
       "   'i wish i could',\n",
       "   'i wish i could play',\n",
       "   'i wish i could play the',\n",
       "   'i wish i could play the moog',\n",
       "   'i wish i could play the moog synthesizer',\n",
       "   'wish',\n",
       "   'wish i',\n",
       "   'wish i could',\n",
       "   'wish i could play',\n",
       "   'wish i could play the',\n",
       "   'wish i could play the moog',\n",
       "   'wish i could play the moog synthesizer',\n",
       "   'i',\n",
       "   'i could',\n",
       "   'i could play',\n",
       "   'i could play the',\n",
       "   'i could play the moog',\n",
       "   'i could play the moog synthesizer',\n",
       "   'could',\n",
       "   'could play',\n",
       "   'could play the',\n",
       "   'could play the moog',\n",
       "   'could play the moog synthesizer',\n",
       "   'play',\n",
       "   'play the',\n",
       "   'play the moog',\n",
       "   'play the moog synthesizer',\n",
       "   'the',\n",
       "   'the moog',\n",
       "   'the moog synthesizer',\n",
       "   'moog',\n",
       "   'moog synthesizer',\n",
       "   'synthesizer']),\n",
       " ((-87.91314315, 41.61400034),\n",
       "  ['',\n",
       "   ' chibulls_chris',\n",
       "   ' chibulls_chris we',\n",
       "   ' chibulls_chris we can',\n",
       "   ' chibulls_chris we can rewrite',\n",
       "   ' chibulls_chris we can rewrite a',\n",
       "   ' chibulls_chris we can rewrite a script',\n",
       "   ' chibulls_chris we can rewrite a script and',\n",
       "   'chibulls_chris',\n",
       "   'chibulls_chris we',\n",
       "   'chibulls_chris we can',\n",
       "   'chibulls_chris we can rewrite',\n",
       "   'chibulls_chris we can rewrite a',\n",
       "   'chibulls_chris we can rewrite a script',\n",
       "   'chibulls_chris we can rewrite a script and',\n",
       "   'chibulls_chris we can rewrite a script and reenact',\n",
       "   'we',\n",
       "   'we can',\n",
       "   'we can rewrite',\n",
       "   'we can rewrite a',\n",
       "   'we can rewrite a script',\n",
       "   'we can rewrite a script and',\n",
       "   'we can rewrite a script and reenact',\n",
       "   'we can rewrite a script and reenact the',\n",
       "   'can',\n",
       "   'can rewrite',\n",
       "   'can rewrite a',\n",
       "   'can rewrite a script',\n",
       "   'can rewrite a script and',\n",
       "   'can rewrite a script and reenact',\n",
       "   'can rewrite a script and reenact the',\n",
       "   'can rewrite a script and reenact the show',\n",
       "   'rewrite',\n",
       "   'rewrite a',\n",
       "   'rewrite a script',\n",
       "   'rewrite a script and',\n",
       "   'rewrite a script and reenact',\n",
       "   'rewrite a script and reenact the',\n",
       "   'rewrite a script and reenact the show',\n",
       "   'rewrite a script and reenact the show if',\n",
       "   'a',\n",
       "   'a script',\n",
       "   'a script and',\n",
       "   'a script and reenact',\n",
       "   'a script and reenact the',\n",
       "   'a script and reenact the show',\n",
       "   'a script and reenact the show if',\n",
       "   'a script and reenact the show if you',\n",
       "   'script',\n",
       "   'script and',\n",
       "   'script and reenact',\n",
       "   'script and reenact the',\n",
       "   'script and reenact the show',\n",
       "   'script and reenact the show if',\n",
       "   'script and reenact the show if you',\n",
       "   'script and reenact the show if you d',\n",
       "   'and',\n",
       "   'and reenact',\n",
       "   'and reenact the',\n",
       "   'and reenact the show',\n",
       "   'and reenact the show if',\n",
       "   'and reenact the show if you',\n",
       "   'and reenact the show if you d',\n",
       "   'and reenact the show if you d like',\n",
       "   'reenact',\n",
       "   'reenact the',\n",
       "   'reenact the show',\n",
       "   'reenact the show if',\n",
       "   'reenact the show if you',\n",
       "   'reenact the show if you d',\n",
       "   'reenact the show if you d like',\n",
       "   'reenact the show if you d like ',\n",
       "   'the',\n",
       "   'the show',\n",
       "   'the show if',\n",
       "   'the show if you',\n",
       "   'the show if you d',\n",
       "   'the show if you d like',\n",
       "   'the show if you d like ',\n",
       "   'show',\n",
       "   'show if',\n",
       "   'show if you',\n",
       "   'show if you d',\n",
       "   'show if you d like',\n",
       "   'show if you d like ',\n",
       "   'if',\n",
       "   'if you',\n",
       "   'if you d',\n",
       "   'if you d like',\n",
       "   'if you d like ',\n",
       "   'you',\n",
       "   'you d',\n",
       "   'you d like',\n",
       "   'you d like ',\n",
       "   'd',\n",
       "   'd like',\n",
       "   'd like ',\n",
       "   'like',\n",
       "   'like ',\n",
       "   '']),\n",
       " ((-95.12464941, 30.1110886),\n",
       "  ['',\n",
       "   ' kkalbitz',\n",
       "   ' kkalbitz haha',\n",
       "   ' kkalbitz haha your',\n",
       "   ' kkalbitz haha your dms',\n",
       "   ' kkalbitz haha your dms are',\n",
       "   ' kkalbitz haha your dms are going',\n",
       "   ' kkalbitz haha your dms are going to',\n",
       "   'kkalbitz',\n",
       "   'kkalbitz haha',\n",
       "   'kkalbitz haha your',\n",
       "   'kkalbitz haha your dms',\n",
       "   'kkalbitz haha your dms are',\n",
       "   'kkalbitz haha your dms are going',\n",
       "   'kkalbitz haha your dms are going to',\n",
       "   'kkalbitz haha your dms are going to shut',\n",
       "   'haha',\n",
       "   'haha your',\n",
       "   'haha your dms',\n",
       "   'haha your dms are',\n",
       "   'haha your dms are going',\n",
       "   'haha your dms are going to',\n",
       "   'haha your dms are going to shut',\n",
       "   'haha your dms are going to shut down',\n",
       "   'your',\n",
       "   'your dms',\n",
       "   'your dms are',\n",
       "   'your dms are going',\n",
       "   'your dms are going to',\n",
       "   'your dms are going to shut',\n",
       "   'your dms are going to shut down',\n",
       "   'your dms are going to shut down twitter',\n",
       "   'dms',\n",
       "   'dms are',\n",
       "   'dms are going',\n",
       "   'dms are going to',\n",
       "   'dms are going to shut',\n",
       "   'dms are going to shut down',\n",
       "   'dms are going to shut down twitter',\n",
       "   'dms are going to shut down twitter after',\n",
       "   'are',\n",
       "   'are going',\n",
       "   'are going to',\n",
       "   'are going to shut',\n",
       "   'are going to shut down',\n",
       "   'are going to shut down twitter',\n",
       "   'are going to shut down twitter after',\n",
       "   'are going to shut down twitter after tonight',\n",
       "   'going',\n",
       "   'going to',\n",
       "   'going to shut',\n",
       "   'going to shut down',\n",
       "   'going to shut down twitter',\n",
       "   'going to shut down twitter after',\n",
       "   'going to shut down twitter after tonight',\n",
       "   'to',\n",
       "   'to shut',\n",
       "   'to shut down',\n",
       "   'to shut down twitter',\n",
       "   'to shut down twitter after',\n",
       "   'to shut down twitter after tonight',\n",
       "   'shut',\n",
       "   'shut down',\n",
       "   'shut down twitter',\n",
       "   'shut down twitter after',\n",
       "   'shut down twitter after tonight',\n",
       "   'down',\n",
       "   'down twitter',\n",
       "   'down twitter after',\n",
       "   'down twitter after tonight',\n",
       "   'twitter',\n",
       "   'twitter after',\n",
       "   'twitter after tonight',\n",
       "   'after',\n",
       "   'after tonight',\n",
       "   'tonight'])]"
      ]
     },
     "execution_count": 7,
     "metadata": {},
     "output_type": "execute_result"
    }
   ],
   "source": [
    "def createList(_, rows):\n",
    "    import re\n",
    "    \n",
    "    separator = re.compile('\\W+')\n",
    "    \n",
    "    # 8 because we have 1 8-gram\n",
    "    n = 8\n",
    "    \n",
    "    for row in rows:\n",
    "        phrases = []\n",
    "        fields = row.split('|')\n",
    "        \n",
    "        # still split per word\n",
    "        words = separator.split(fields[5].lower())\n",
    "        length = len(words)\n",
    "\n",
    "        # stream the array of words\n",
    "        for i in range(length):\n",
    "            # create the n-grams from the first word\n",
    "            for j in range(1, n+1):\n",
    "                # stop if the remaining words < 8\n",
    "                if i+j > length:\n",
    "                    break\n",
    "                # join words by spaces\n",
    "                phrases.append(' '.join(words[i:i+j]))\n",
    "        \n",
    "        # return an array of phrases\n",
    "        yield ((float(fields[2]), float(fields[1])), phrases)\n",
    "\n",
    "phrases = tweets.mapPartitionsWithIndex(createList)\n",
    "phrases.take(5)"
   ]
  },
  {
   "cell_type": "code",
   "execution_count": 8,
   "metadata": {
    "ExecuteTime": {
     "end_time": "2018-08-03T11:45:05.656559Z",
     "start_time": "2018-08-03T11:45:05.549103Z"
    },
    "scrolled": true
   },
   "outputs": [
    {
     "data": {
      "text/plain": [
       "[((-117.88537093, 33.59660902), {'boat'}),\n",
       " ((-100.29277778, 25.63861111), {'c', 'h'}),\n",
       " ((-74.02517944, 40.21185001), {'weed'}),\n",
       " ((-78.80715424, 43.00647335), {'sherm'}),\n",
       " ((-80.1286475, 25.96150019), {'friend'})]"
      ]
     },
     "execution_count": 8,
     "metadata": {},
     "output_type": "execute_result"
    }
   ],
   "source": [
    "def filterTweets(bTerms, _, rows):\n",
    "    terms = bTerms.value\n",
    "    \n",
    "    for row in rows:\n",
    "        coor, phrase_list = row\n",
    "        if len(terms.intersection(phrase_list)) > 0:\n",
    "            yield coor, terms.intersection(phrase_list)\n",
    "\n",
    "drugTweets = phrases.mapPartitionsWithIndex(partial(filterTweets, bTerms))\n",
    "drugTweets.take(5)"
   ]
  },
  {
   "cell_type": "code",
   "execution_count": 9,
   "metadata": {
    "ExecuteTime": {
     "end_time": "2018-08-03T11:45:09.268866Z",
     "start_time": "2018-08-03T11:45:08.429884Z"
    }
   },
   "outputs": [
    {
     "data": {
      "text/plain": [
       "1164"
      ]
     },
     "execution_count": 9,
     "metadata": {},
     "output_type": "execute_result"
    }
   ],
   "source": [
    "drugTweets.count()"
   ]
  },
  {
   "cell_type": "code",
   "execution_count": 11,
   "metadata": {
    "ExecuteTime": {
     "end_time": "2018-07-29T19:13:42.159508Z",
     "start_time": "2018-07-29T19:13:41.947130Z"
    }
   },
   "outputs": [
    {
     "data": {
      "text/plain": [
       "998"
      ]
     },
     "execution_count": 11,
     "metadata": {},
     "output_type": "execute_result"
    }
   ],
   "source": [
    "def filterOld(bTerms, _, rows):\n",
    "    import re\n",
    "    \n",
    "    separator = re.compile('\\W+')\n",
    "    terms = bTerms.value\n",
    "    for row in rows:\n",
    "        fields = row.split('|')\n",
    "        words = separator.split(fields[6].lower())\n",
    "        if len(terms.intersection(words)) > 0:\n",
    "            yield ((float(fields[2]), float(fields[1])), words)\n",
    "\n",
    "drugSingle = tweets.mapPartitionsWithIndex(partial(filterOld, bTerms))\n",
    "drugSingle.count()"
   ]
  },
  {
   "cell_type": "code",
   "execution_count": 28,
   "metadata": {
    "ExecuteTime": {
     "end_time": "2018-08-03T12:03:22.069446Z",
     "start_time": "2018-08-03T12:03:01.726641Z"
    }
   },
   "outputs": [],
   "source": [
    "zones = gpd.read_file(CITIES_FN).to_crs(fiona.crs.from_epsg(2263))\n",
    "# index = rtree.Rtree()\n",
    "# for idx,geometry in enumerate(zones.geometry):\n",
    "#     index.insert(idx, geometry.bounds)"
   ]
  },
  {
   "cell_type": "code",
   "execution_count": 7,
   "metadata": {
    "ExecuteTime": {
     "end_time": "2018-08-02T01:49:47.982128Z",
     "start_time": "2018-08-02T01:49:47.971773Z"
    }
   },
   "outputs": [
    {
     "data": {
      "text/plain": [
       "[-24802085.76790066, -5246167.90464653, 2020022.4877256171, 13753978.829248838]"
      ]
     },
     "execution_count": 7,
     "metadata": {},
     "output_type": "execute_result"
    }
   ],
   "source": [
    "index.bounds"
   ]
  },
  {
   "cell_type": "code",
   "execution_count": 9,
   "metadata": {
    "ExecuteTime": {
     "end_time": "2018-08-02T01:50:13.970857Z",
     "start_time": "2018-08-02T01:50:13.959977Z"
    }
   },
   "outputs": [
    {
     "data": {
      "text/plain": [
       "True"
      ]
     },
     "execution_count": 9,
     "metadata": {},
     "output_type": "execute_result"
    }
   ],
   "source": [
    "zones.geometry[1].is_valid"
   ]
  },
  {
   "cell_type": "code",
   "execution_count": 11,
   "metadata": {
    "ExecuteTime": {
     "end_time": "2018-08-03T11:46:29.767008Z",
     "start_time": "2018-08-03T11:45:52.816916Z"
    }
   },
   "outputs": [
    {
     "data": {
      "text/plain": [
       "314"
      ]
     },
     "execution_count": 11,
     "metadata": {},
     "output_type": "execute_result"
    }
   ],
   "source": [
    "def createIndex(shapefile):\n",
    "    import rtree\n",
    "    import fiona.crs\n",
    "    import geopandas as gpd\n",
    "    zones = gpd.read_file(shapefile).to_crs(fiona.crs.from_epsg(2263))\n",
    "    index = rtree.Rtree()\n",
    "    for idx,geometry in enumerate(zones.geometry):\n",
    "        index.insert(idx, geometry.bounds)\n",
    "    return (index, zones)\n",
    "\n",
    "def findZone(p, index, zones):\n",
    "    match = index.intersection((p.x, p.y, p.x, p.y))\n",
    "    for idx in match:\n",
    "        if zones.geometry[idx].contains(p):\n",
    "            return (zones.plctract10[idx], zones.plctrpop10[idx])\n",
    "    return None\n",
    "\n",
    "def processTweets(shapefile, pid, records):\n",
    "    import pyproj\n",
    "    import shapely.geometry as geom\n",
    "    \n",
    "    proj = pyproj.Proj(init=\"epsg:2263\", preserve_units=True)    \n",
    "    index, zones = createIndex(shapefile.value)\n",
    "    counts = {}\n",
    "#     population = {}\n",
    "#     norm_counts = {}\n",
    "    \n",
    "    for row in records:\n",
    "        lnglat, tweet = row\n",
    "        p = geom.Point(proj(lnglat[0], lnglat[1]))\n",
    "        zone = findZone(p, index, zones)\n",
    "        if zone:\n",
    "#             yield zone, pop\n",
    "            counts[zone[0]] = counts.get(zone[0], 0) + 1\n",
    "#             population[zone[0]] = zone[1]\n",
    "        \n",
    "#     for key, value in counts.items():\n",
    "#         norm_counts[key] = round(value / population[key], 6)\n",
    "    \n",
    "#     return norm_counts.items()\n",
    "    return counts.items()\n",
    "\n",
    "shapefile = sc.broadcast(CITIES_FN)\n",
    "locationTweets = drugTweets.mapPartitionsWithIndex(partial(processTweets, shapefile)) \\\n",
    "                    .reduceByKey(lambda x,y: x+y)\\\n",
    "                    .sortByKey()\n",
    "locationTweets.count()"
   ]
  },
  {
   "cell_type": "code",
   "execution_count": 13,
   "metadata": {
    "ExecuteTime": {
     "end_time": "2018-07-29T19:17:26.615566Z",
     "start_time": "2018-07-29T19:16:03.726906Z"
    }
   },
   "outputs": [
    {
     "data": {
      "text/plain": [
       "262"
      ]
     },
     "execution_count": 13,
     "metadata": {},
     "output_type": "execute_result"
    }
   ],
   "source": [
    "oldLocTweets = drugSingle.mapPartitionsWithIndex(partial(processTweets, shapefile)) \\\n",
    "                    .sortByKey()\n",
    "oldLocTweets.count()"
   ]
  },
  {
   "cell_type": "code",
   "execution_count": 11,
   "metadata": {
    "ExecuteTime": {
     "end_time": "2018-08-02T02:48:55.548419Z",
     "start_time": "2018-08-02T02:48:55.486173Z"
    }
   },
   "outputs": [],
   "source": [
    "temp = sc.parallelize([(u'0107000-01073000100', 1),(u'0107000-01073000100', 1),(u'0107000-01073000100', 1),(u'0107000-01073000100', 1),(u'0107000-01073000100', 3),(u'0107000-01073000100', 1),(u'0107000-01073000100', 1),(u'0107000-01073000100', 1),(u'0107000-01073000100', 1),(u'0107000-01073000100', 1),(u'0107000-01073000100', 1),(u'0107000-01073000100', 1),(u'0107000-01073000100', 1),(u'0107000-01073000100', 1),(u'0107000-01073000100', 1),(u'0107000-01073000100', 1),(u'0107000-01073000300', 1),(u'0107000-01073000300', 2),(u'0107000-01073000300', 1),(u'0107000-01073000300', 1),(u'0107000-01073000300', 3),(u'0107000-01073000300', 1),(u'0107000-01073000300', 1),(u'0107000-01073000300', 1),(u'0107000-01073000300', 7),(u'0107000-01073000300', 1),(u'0107000-01073000300', 1),(u'0107000-01073000300', 1),(u'0107000-01073000300', 1),(u'0107000-01073000300', 1),(u'0107000-01073000300', 2),(u'0107000-01073000300', 4),(u'0107000-01073000300', 1),(u'0107000-01073000300', 1),(u'0107000-01073000300', 1),(u'0107000-01073000400', 1),(u'0107000-01073000400', 4),(u'0107000-01073000400', 2),(u'0107000-01073000400', 1),(u'0107000-01073000400', 1),(u'0107000-01073000400', 1),(u'0107000-01073000400', 1),(u'0107000-01073000400', 4),(u'0107000-01073000400', 1),(u'0107000-01073000400', 1),(u'0107000-01073000400', 3),(u'0107000-01073000400', 1),(u'0107000-01073000400', 1),(u'0107000-01073000400', 3),(u'0107000-01073000400', 1),(u'0107000-01073000400', 1),(u'0107000-01073000400', 1),(u'0107000-01073000400', 1),(u'0107000-01073000400', 2),(u'0107000-01073000400', 1),(u'0107000-01073000400', 1),(u'0107000-01073000400', 1),(u'0107000-01073000400', 1),(u'0107000-01073000400', 1),(u'0107000-01073000400', 1),(u'0107000-01073000400', 1),(u'0107000-01073000400', 1),(u'0107000-01073000400', 1),(u'0107000-01073000400', 1),(u'0107000-01073000400', 3),(u'0107000-01073000400', 1),(u'0107000-01073000400', 1),(u'0107000-01073000400', 4),(u'0107000-01073000400', 1),(u'0107000-01073000400', 4),(u'0107000-01073000400', 1),(u'0107000-01073000500', 1),(u'0107000-01073000500', 1),(u'0107000-01073000500', 1),(u'0107000-01073000500', 1),(u'0107000-01073000500', 1),(u'0107000-01073000500', 1),(u'0107000-01073000500', 2),(u'0107000-01073000500', 1),(u'0107000-01073000500', 1),(u'0107000-01073000500', 1),(u'0107000-01073000500', 1),(u'0107000-01073000500', 1),(u'0107000-01073000500', 1),(u'0107000-01073000500', 1),(u'0107000-01073000500', 1),(u'0107000-01073000500', 1),(u'0107000-01073000500', 1),(u'0107000-01073000500', 1),(u'0107000-01073000500', 1),(u'0107000-01073000500', 1),(u'0107000-01073000500', 1),(u'0107000-01073000500', 1),(u'0107000-01073000500', 1),(u'0107000-01073000500', 1),(u'0107000-01073000700', 1),(u'0107000-01073000700', 1),(u'0107000-01073000700', 1),(u'0107000-01073000700', 2),(u'0107000-01073000700', 1),(u'0107000-01073000700', 1),(u'0107000-01073000700', 2),(u'0107000-01073000700', 1),(u'0107000-01073000700', 1),(u'0107000-01073000700', 1),(u'0107000-01073000700', 1),(u'0107000-01073000700', 2),(u'0107000-01073000700', 1),(u'0107000-01073000700', 4),(u'0107000-01073000700', 1),(u'0107000-01073000700', 1),(u'0107000-01073000700', 2),(u'0107000-01073000700', 1),(u'0107000-01073000700', 1),(u'0107000-01073000700', 1),(u'0107000-01073000700', 1),(u'0107000-01073000700', 2),(u'0107000-01073000700', 2),(u'0107000-01073000700', 1),(u'0107000-01073000700', 1),(u'0107000-01073000700', 1),(u'0107000-01073000700', 1),(u'0107000-01073000700', 2),(u'0107000-01073000700', 2),(u'0107000-01073000800', 1),(u'0107000-01073000800', 1),(u'0107000-01073000800', 1),(u'0107000-01073000800', 2),(u'0107000-01073000800', 1),(u'0107000-01073000800', 1),(u'0107000-01073000800', 1),(u'0107000-01073000800', 1),(u'0107000-01073000800', 1),(u'0107000-01073000800', 1),(u'0107000-01073000800', 1),(u'0107000-01073000800', 1),(u'0107000-01073000800', 1),(u'0107000-01073000800', 1),(u'0107000-01073000800', 2),(u'0107000-01073000800', 1),(u'0107000-01073000800', 1),(u'0107000-01073000800', 1),(u'0107000-01073000800', 1),(u'0107000-01073000800', 2),(u'0107000-01073000800', 1),(u'0107000-01073000800', 4),(u'0107000-01073000800', 1),(u'0107000-01073000800', 1),(u'0107000-01073000800', 1),(u'0107000-01073000800', 2),(u'0107000-01073000800', 1),(u'0107000-01073000800', 2),(u'0107000-01073000800', 2),(u'0107000-01073000800', 4),(u'0107000-01073000800', 1),(u'0107000-01073000800', 4),(u'0107000-01073000800', 2),(u'0107000-01073000800', 3),(u'0107000-01073000800', 1),(u'0107000-01073000800', 1),(u'0107000-01073000800', 1),(u'0107000-01073000800', 1),(u'0107000-01073000800', 1),(u'0107000-01073000800', 1),(u'0107000-01073000800', 1),(u'0107000-01073000800', 1),(u'0107000-01073000800', 1),(u'0107000-01073000800', 2),(u'0107000-01073000800', 1),(u'0107000-01073000800', 1),(u'0107000-01073000800', 1),(u'0107000-01073000800', 2),(u'0107000-01073000800', 1),(u'0107000-01073000800', 5),(u'0107000-01073000800', 1),(u'0107000-01073000800', 1),(u'0107000-01073001100', 1),(u'0107000-01073001100', 2),(u'0107000-01073001100', 1),(u'0107000-01073001100', 1),(u'0107000-01073001100', 1),(u'0107000-01073001100', 1),(u'0107000-01073001100', 1),(u'0107000-01073001100', 7),(u'0107000-01073001100', 1),(u'0107000-01073001100', 1),(u'0107000-01073001100', 1),(u'0107000-01073001100', 1),(u'0107000-01073001100', 1),(u'0107000-01073001100', 1),(u'0107000-01073001100', 2),(u'0107000-01073001100', 1),(u'0107000-01073001100', 1),(u'0107000-01073001100', 2),(u'0107000-01073001100', 3),(u'0107000-01073001100', 2),(u'0107000-01073001100', 1),(u'0107000-01073001100', 1),(u'0107000-01073001100', 1),(u'0107000-01073001100', 2),(u'0107000-01073001100', 2),(u'0107000-01073001100', 3),(u'0107000-01073001100', 1),(u'0107000-01073001100', 1),(u'0107000-01073001100', 1),(u'0107000-01073001100', 1),(u'0107000-01073001100', 1),(u'0107000-01073001100', 1),(u'0107000-01073001100', 2),(u'0107000-01073001100', 1),(u'0107000-01073001100', 1),(u'0107000-01073001100', 2),(u'0107000-01073001100', 3),(u'0107000-01073001100', 2),(u'0107000-01073001100', 1),(u'0107000-01073001100', 1),(u'0107000-01073001100', 2),(u'0107000-01073001100', 1),(u'0107000-01073001100', 1),(u'0107000-01073001100', 4),(u'0107000-01073001100', 2),(u'0107000-01073001100', 2),(u'0107000-01073001100', 1),(u'0107000-01073001100', 2),(u'0107000-01073001100', 5),(u'0107000-01073001100', 1),(u'0107000-01073001100', 1),(u'0107000-01073001100', 1),(u'0107000-01073001100', 1),(u'0107000-01073001100', 2),(u'0107000-01073001100', 2),(u'0107000-01073001100', 1),(u'0107000-01073001100', 1),(u'0107000-01073001100', 1),(u'0107000-01073001100', 1),(u'0107000-01073001200', 1),(u'0107000-01073001200', 1),(u'0107000-01073001200', 1),(u'0107000-01073001200', 3),(u'0107000-01073001200', 2),(u'0107000-01073001200', 1),(u'0107000-01073001200', 1),(u'0107000-01073001200', 1),(u'0107000-01073001200', 1),(u'0107000-01073001200', 1),(u'0107000-01073001200', 1),(u'0107000-01073001200', 1),(u'0107000-01073001200', 1),(u'0107000-01073001200', 1),(u'0107000-01073001200', 1),(u'0107000-01073001200', 1),(u'0107000-01073001200', 1),(u'0107000-01073001200', 5),(u'0107000-01073001200', 1),(u'0107000-01073001200', 1),(u'0107000-01073001200', 2),(u'0107000-01073001200', 1),(u'0107000-01073001200', 1),(u'0107000-01073001200', 1),(u'0107000-01073001200', 2),(u'0107000-01073001200', 1),(u'0107000-01073001200', 1),(u'0107000-01073001200', 1),(u'0107000-01073001200', 5),(u'0107000-01073001200', 3),(u'0107000-01073001200', 3),(u'0107000-01073001200', 2),(u'0107000-01073001200', 2),(u'0107000-01073001200', 1),(u'0107000-01073001200', 1),(u'0107000-01073001200', 1),(u'0107000-01073001200', 1),(u'0107000-01073001200', 7),(u'0107000-01073001200', 1),(u'0107000-01073001200', 1),(u'0107000-01073001200', 2),(u'0107000-01073001200', 2),(u'0107000-01073001200', 1),(u'0107000-01073001200', 2),(u'0107000-01073001200', 2),(u'0107000-01073001200', 1),(u'0107000-01073001200', 2),(u'0107000-01073001200', 5),(u'0107000-01073001200', 1),(u'0107000-01073001200', 1),(u'0107000-01073001200', 2),(u'0107000-01073001200', 1),(u'0107000-01073001200', 1),(u'0107000-01073001400', 1),(u'0107000-01073001400', 1),(u'0107000-01073001400', 1),(u'0107000-01073001400', 1),(u'0107000-01073001400', 1),(u'0107000-01073001400', 1),(u'0107000-01073001400', 1),(u'0107000-01073001400', 1),(u'0107000-01073001400', 1),(u'0107000-01073001500', 1),(u'0107000-01073001500', 1),(u'0107000-01073001500', 1),(u'0107000-01073001500', 1),(u'0107000-01073001500', 1),(u'0107000-01073001500', 1),(u'0107000-01073001500', 1),(u'0107000-01073001500', 1),(u'0107000-01073001500', 2),(u'0107000-01073001500', 1),(u'0107000-01073001500', 1),(u'0107000-01073001500', 1),(u'0107000-01073001500', 1),(u'0107000-01073001500', 1),(u'0107000-01073001600', 1),(u'0107000-01073001600', 1),(u'0107000-01073001600', 1),(u'0107000-01073001600', 4),(u'0107000-01073001600', 1),(u'0107000-01073001600', 1),(u'0107000-01073001600', 1),(u'0107000-01073001600', 4),(u'0107000-01073001600', 2),(u'0107000-01073001600', 1),(u'0107000-01073001600', 3),(u'0107000-01073001600', 1),(u'0107000-01073001600', 1),(u'0107000-01073001600', 1),(u'0107000-01073001600', 2),(u'0107000-01073001902', 2),(u'0107000-01073001902', 4),(u'0107000-01073001902', 1),(u'0107000-01073001902', 3),(u'0107000-01073001902', 1),(u'0107000-01073001902', 2),(u'0107000-01073001902', 1),(u'0107000-01073001902', 1),(u'0107000-01073001902', 2),(u'0107000-01073001902', 1),(u'0107000-01073001902', 1),(u'0107000-01073001902', 3),(u'0107000-01073001902', 3),(u'0107000-01073001902', 2),(u'0107000-01073001902', 2),(u'0107000-01073001902', 1),(u'0107000-01073001902', 2),(u'0107000-01073001902', 3),(u'0107000-01073001902', 1),(u'0107000-01073001902', 1),(u'0107000-01073001902', 1),(u'0107000-01073001902', 1),(u'0107000-01073001902', 1),(u'0107000-01073001902', 1),(u'0107000-01073001902', 1),(u'0107000-01073001902', 1),(u'0107000-01073001902', 2),(u'0107000-01073001902', 1),(u'0107000-01073001902', 1),(u'0107000-01073001902', 1),(u'0107000-01073001902', 1),(u'0107000-01073001902', 3),(u'0107000-01073001902', 1),(u'0107000-01073001902', 2),(u'0107000-01073001902', 4),(u'0107000-01073001902', 1),(u'0107000-01073001902', 2),(u'0107000-01073001902', 1),(u'0107000-01073001902', 1),(u'0107000-01073001902', 2),(u'0107000-01073001902', 1),(u'0107000-01073001902', 1),(u'0107000-01073001902', 1),(u'0107000-01073001902', 6),(u'0107000-01073001902', 1),(u'0107000-01073001902', 2),(u'0107000-01073001902', 4),(u'0107000-01073001902', 2),(u'0107000-01073001902', 1),(u'0107000-01073002000', 1),(u'0107000-01073002000', 1),(u'0107000-01073002000', 1),(u'0107000-01073002000', 1),(u'0107000-01073002000', 1),(u'0107000-01073002000', 1),(u'0107000-01073002000', 4),(u'0107000-01073002000', 1),(u'0107000-01073002000', 1),(u'0107000-01073002000', 2),(u'0107000-01073002000', 1),(u'0107000-01073002000', 1),(u'0107000-01073002000', 3),(u'0107000-01073002000', 1),(u'0107000-01073002000', 1),(u'0107000-01073002000', 1),(u'0107000-01073002000', 1),(u'0107000-01073002000', 1),(u'0107000-01073002000', 1),(u'0107000-01073002000', 1),(u'0107000-01073002000', 1),(u'0107000-01073002000', 1),(u'0107000-01073002000', 1),(u'0107000-01073002000', 1),(u'0107000-01073002000', 1),(u'0107000-01073002100', 1),(u'0107000-01073002100', 1),(u'0107000-01073002100', 1),(u'0107000-01073002100', 1),(u'0107000-01073002100', 1),(u'0107000-01073002100', 1),(u'0107000-01073002100', 1),(u'0107000-01073002100', 2),(u'0107000-01073002100', 1),(u'0107000-01073002100', 1),(u'0107000-01073002100', 1),(u'0107000-01073002100', 1),(u'0107000-01073002100', 1),(u'0107000-01073002100', 1),(u'0107000-01073002100', 1),(u'0107000-01073002100', 1),(u'0107000-01073002100', 1),(u'0107000-01073002100', 1),(u'0107000-01073002100', 1),(u'0107000-01073002100', 1)])"
   ]
  },
  {
   "cell_type": "code",
   "execution_count": 15,
   "metadata": {
    "ExecuteTime": {
     "end_time": "2018-08-02T02:49:28.751316Z",
     "start_time": "2018-08-02T02:49:28.555252Z"
    }
   },
   "outputs": [
    {
     "data": {
      "text/plain": [
       "[('0107000-01073000300', 32),\n",
       " ('0107000-01073001400', 9),\n",
       " ('0107000-01073001500', 15),\n",
       " ('0107000-01073001902', 85),\n",
       " ('0107000-01073002000', 31),\n",
       " ('0107000-01073000400', 56),\n",
       " ('0107000-01073000700', 40),\n",
       " ('0107000-01073000800', 76),\n",
       " ('0107000-01073002100', 21),\n",
       " ('0107000-01073000100', 18),\n",
       " ('0107000-01073001100', 93),\n",
       " ('0107000-01073001600', 25),\n",
       " ('0107000-01073000500', 25),\n",
       " ('0107000-01073001200', 88)]"
      ]
     },
     "execution_count": 15,
     "metadata": {},
     "output_type": "execute_result"
    }
   ],
   "source": [
    "temp.reduceByKey(lambda x, y: x+y).collect()"
   ]
  },
  {
   "cell_type": "code",
   "execution_count": 20,
   "metadata": {
    "ExecuteTime": {
     "end_time": "2018-08-02T03:16:04.817927Z",
     "start_time": "2018-08-02T03:16:04.801410Z"
    }
   },
   "outputs": [
    {
     "data": {
      "text/html": [
       "<div>\n",
       "<style scoped>\n",
       "    .dataframe tbody tr th:only-of-type {\n",
       "        vertical-align: middle;\n",
       "    }\n",
       "\n",
       "    .dataframe tbody tr th {\n",
       "        vertical-align: top;\n",
       "    }\n",
       "\n",
       "    .dataframe thead th {\n",
       "        text-align: right;\n",
       "    }\n",
       "</style>\n",
       "<table border=\"1\" class=\"dataframe\">\n",
       "  <thead>\n",
       "    <tr style=\"text-align: right;\">\n",
       "      <th></th>\n",
       "      <th>plctract10</th>\n",
       "      <th>plctrpop10</th>\n",
       "      <th>geometry</th>\n",
       "    </tr>\n",
       "  </thead>\n",
       "  <tbody>\n",
       "    <tr>\n",
       "      <th>4946</th>\n",
       "      <td>0137000-01089011100</td>\n",
       "      <td>4</td>\n",
       "      <td>(POLYGON ((-2809821.347481699 -1743808.1056464...</td>\n",
       "    </tr>\n",
       "  </tbody>\n",
       "</table>\n",
       "</div>"
      ],
      "text/plain": [
       "               plctract10  plctrpop10  \\\n",
       "4946  0137000-01089011100           4   \n",
       "\n",
       "                                               geometry  \n",
       "4946  (POLYGON ((-2809821.347481699 -1743808.1056464...  "
      ]
     },
     "execution_count": 20,
     "metadata": {},
     "output_type": "execute_result"
    }
   ],
   "source": [
    "zones[zones['plctract10'] == '0137000-01089011100']"
   ]
  },
  {
   "cell_type": "code",
   "execution_count": 18,
   "metadata": {
    "ExecuteTime": {
     "end_time": "2018-08-02T03:14:27.065677Z",
     "start_time": "2018-08-02T03:14:27.061114Z"
    }
   },
   "outputs": [
    {
     "data": {
      "text/plain": [
       "0.005917159763313609"
      ]
     },
     "execution_count": 18,
     "metadata": {},
     "output_type": "execute_result"
    }
   ],
   "source": [
    "18/3042"
   ]
  },
  {
   "cell_type": "code",
   "execution_count": 29,
   "metadata": {
    "ExecuteTime": {
     "end_time": "2018-08-03T12:04:06.300847Z",
     "start_time": "2018-08-03T12:04:06.295135Z"
    }
   },
   "outputs": [
    {
     "data": {
      "text/plain": [
       "Index(['plctract10', 'plctrpop10', 'geometry'], dtype='object')"
      ]
     },
     "execution_count": 29,
     "metadata": {},
     "output_type": "execute_result"
    }
   ],
   "source": [
    "zones.columns"
   ]
  },
  {
   "cell_type": "code",
   "execution_count": 93,
   "metadata": {
    "ExecuteTime": {
     "end_time": "2018-08-03T12:55:34.326642Z",
     "start_time": "2018-08-03T12:55:32.420710Z"
    }
   },
   "outputs": [],
   "source": [
    "tracts = sqlContext.read.load(CITIES_FN, format=\"json\")\n",
    "tracts_df = tracts.select(explode(tracts.features))\n",
    "tracts_df = tracts_df.withColumn('plctract10', tracts_df['col.properties.plctract10'])\\\n",
    "                .withColumn('plctrpop10', tracts_df['col.properties.plctrpop10'])\\\n",
    "                .select(['plctract10', 'plctrpop10'])\n",
    "tracts_df = tracts_df.filter(tracts_df.plctrpop10 > 0)"
   ]
  },
  {
   "cell_type": "code",
   "execution_count": 94,
   "metadata": {
    "ExecuteTime": {
     "end_time": "2018-08-03T12:55:38.804002Z",
     "start_time": "2018-08-03T12:55:35.810589Z"
    }
   },
   "outputs": [
    {
     "data": {
      "text/plain": [
       "20465"
      ]
     },
     "execution_count": 94,
     "metadata": {},
     "output_type": "execute_result"
    }
   ],
   "source": [
    "tracts_df.count()"
   ]
  },
  {
   "cell_type": "code",
   "execution_count": 95,
   "metadata": {
    "ExecuteTime": {
     "end_time": "2018-08-03T12:55:47.084724Z",
     "start_time": "2018-08-03T12:55:47.079760Z"
    }
   },
   "outputs": [
    {
     "data": {
      "text/plain": [
       "881"
      ]
     },
     "execution_count": 95,
     "metadata": {},
     "output_type": "execute_result"
    }
   ],
   "source": [
    "21346-20465"
   ]
  },
  {
   "cell_type": "code",
   "execution_count": 66,
   "metadata": {
    "ExecuteTime": {
     "end_time": "2018-08-03T12:40:15.728285Z",
     "start_time": "2018-08-03T12:40:15.712968Z"
    }
   },
   "outputs": [
    {
     "name": "stdout",
     "output_type": "stream",
     "text": [
      "root\n",
      " |-- col: struct (nullable = true)\n",
      " |    |-- geometry: struct (nullable = true)\n",
      " |    |    |-- coordinates: array (nullable = true)\n",
      " |    |    |    |-- element: array (containsNull = true)\n",
      " |    |    |    |    |-- element: array (containsNull = true)\n",
      " |    |    |    |    |    |-- element: array (containsNull = true)\n",
      " |    |    |    |    |    |    |-- element: double (containsNull = true)\n",
      " |    |    |-- type: string (nullable = true)\n",
      " |    |-- properties: struct (nullable = true)\n",
      " |    |    |-- plctract10: string (nullable = true)\n",
      " |    |    |-- plctrpop10: long (nullable = true)\n",
      " |    |-- type: string (nullable = true)\n",
      "\n"
     ]
    }
   ],
   "source": [
    "from pyspark.sql.functions import explode, split\n",
    "features = temp_df.select(explode(temp_df.features))\n",
    "features.printSchema()"
   ]
  },
  {
   "cell_type": "code",
   "execution_count": 79,
   "metadata": {
    "ExecuteTime": {
     "end_time": "2018-08-03T12:47:47.221057Z",
     "start_time": "2018-08-03T12:47:43.008064Z"
    }
   },
   "outputs": [
    {
     "name": "stdout",
     "output_type": "stream",
     "text": [
      "+-------------------+----------+\n",
      "|         plctract10|plctrpop10|\n",
      "+-------------------+----------+\n",
      "|0107000-01073005910|      4612|\n",
      "|0107000-01073010801|       168|\n",
      "|0107000-01073012701|        44|\n",
      "|0107000-01073012703|       498|\n",
      "|0107000-01073012704|       113|\n",
      "|0135896-01073012704|        27|\n",
      "|0135896-01073012907|      2696|\n",
      "|0135896-01073014409|      3266|\n",
      "|0135896-01117030217|      4878|\n",
      "|0135896-01117030303|      2728|\n",
      "|0135896-01117030304|      3288|\n",
      "|0137000-01089010612|      2654|\n",
      "|0137000-01089010622|      8725|\n",
      "|0137000-01089010800|       860|\n",
      "|0137000-01089010901|     11386|\n",
      "|0150000-01097001502|      1608|\n",
      "|0473000-04013421201|      1342|\n",
      "|0477000-04019001100|      2900|\n",
      "|0137000-01089010902|        49|\n",
      "|0477000-04019003600|      4552|\n",
      "+-------------------+----------+\n",
      "only showing top 20 rows\n",
      "\n"
     ]
    }
   ],
   "source": [
    "props = features.withColumn('plctract10', features['col.properties.plctract10'])\\\n",
    "        .withColumn('plctrpop10', features['col.properties.plctrpop10'])\\\n",
    "        .select(['plctract10', 'plctrpop10'])"
   ]
  },
  {
   "cell_type": "code",
   "execution_count": 82,
   "metadata": {
    "ExecuteTime": {
     "end_time": "2018-08-03T12:49:49.029610Z",
     "start_time": "2018-08-03T12:49:45.160404Z"
    }
   },
   "outputs": [
    {
     "data": {
      "text/plain": [
       "881"
      ]
     },
     "execution_count": 82,
     "metadata": {},
     "output_type": "execute_result"
    }
   ],
   "source": [
    "props.filter(props.plctrpop10 >= 0).count()"
   ]
  },
  {
   "cell_type": "code",
   "execution_count": 80,
   "metadata": {
    "ExecuteTime": {
     "end_time": "2018-08-03T12:48:08.079171Z",
     "start_time": "2018-08-03T12:48:08.032199Z"
    }
   },
   "outputs": [],
   "source": [
    "props_rdd = props.rdd.map(tuple)"
   ]
  },
  {
   "cell_type": "code",
   "execution_count": 81,
   "metadata": {
    "ExecuteTime": {
     "end_time": "2018-08-03T12:48:11.644375Z",
     "start_time": "2018-08-03T12:48:08.174519Z"
    }
   },
   "outputs": [
    {
     "data": {
      "text/plain": [
       "[('0107000-01073005910', 4612),\n",
       " ('0107000-01073010801', 168),\n",
       " ('0107000-01073012701', 44)]"
      ]
     },
     "execution_count": 81,
     "metadata": {},
     "output_type": "execute_result"
    }
   ],
   "source": [
    "props_rdd.take(3)"
   ]
  },
  {
   "cell_type": "code",
   "execution_count": 48,
   "metadata": {
    "ExecuteTime": {
     "end_time": "2018-08-03T12:16:35.936058Z",
     "start_time": "2018-08-03T12:16:35.887988Z"
    }
   },
   "outputs": [
    {
     "ename": "AttributeError",
     "evalue": "'SparkContext' object has no attribute 'createDataFrame'",
     "output_type": "error",
     "traceback": [
      "\u001b[0;31m---------------------------------------------------------------------------\u001b[0m",
      "\u001b[0;31mAttributeError\u001b[0m                            Traceback (most recent call last)",
      "\u001b[0;32m<ipython-input-48-ddb6bc075ec1>\u001b[0m in \u001b[0;36m<module>\u001b[0;34m()\u001b[0m\n\u001b[1;32m      1\u001b[0m \u001b[0mdf\u001b[0m \u001b[0;34m=\u001b[0m \u001b[0mzones\u001b[0m\u001b[0;34m[\u001b[0m\u001b[0;34m[\u001b[0m\u001b[0;34m'plctract10'\u001b[0m\u001b[0;34m,\u001b[0m \u001b[0;34m'plctrpop10'\u001b[0m\u001b[0;34m]\u001b[0m\u001b[0;34m]\u001b[0m\u001b[0;34m\u001b[0m\u001b[0m\n\u001b[0;32m----> 2\u001b[0;31m \u001b[0mspark_df\u001b[0m \u001b[0;34m=\u001b[0m \u001b[0msc\u001b[0m\u001b[0;34m.\u001b[0m\u001b[0mcreateDataFrame\u001b[0m\u001b[0;34m(\u001b[0m\u001b[0mdf\u001b[0m\u001b[0;34m)\u001b[0m\u001b[0;34m.\u001b[0m\u001b[0mcache\u001b[0m\u001b[0;34m(\u001b[0m\u001b[0;34m)\u001b[0m\u001b[0;34m\u001b[0m\u001b[0m\n\u001b[0m",
      "\u001b[0;31mAttributeError\u001b[0m: 'SparkContext' object has no attribute 'createDataFrame'"
     ]
    }
   ],
   "source": [
    "df = zones[['plctract10', 'plctrpop10']]\n",
    "spark_df = spark.createDataFrame(df).cache()"
   ]
  },
  {
   "cell_type": "code",
   "execution_count": 42,
   "metadata": {
    "ExecuteTime": {
     "end_time": "2018-08-03T12:14:19.865152Z",
     "start_time": "2018-08-03T12:14:19.849600Z"
    }
   },
   "outputs": [],
   "source": [
    "spark_df = spark_df.filter(spark_df.plctrpop10 > 0)"
   ]
  },
  {
   "cell_type": "code",
   "execution_count": 43,
   "metadata": {
    "ExecuteTime": {
     "end_time": "2018-08-03T12:14:22.260487Z",
     "start_time": "2018-08-03T12:14:22.113413Z"
    }
   },
   "outputs": [
    {
     "data": {
      "text/plain": [
       "[('0107000-01073005910', 4612),\n",
       " ('0107000-01073010801', 168),\n",
       " ('0107000-01073012701', 44),\n",
       " ('0107000-01073012703', 498),\n",
       " ('0107000-01073012704', 113),\n",
       " ('0135896-01073012704', 27),\n",
       " ('0135896-01073012907', 2696),\n",
       " ('0135896-01073014409', 3266),\n",
       " ('0135896-01117030217', 4878),\n",
       " ('0135896-01117030303', 2728)]"
      ]
     },
     "execution_count": 43,
     "metadata": {},
     "output_type": "execute_result"
    }
   ],
   "source": [
    "test = spark_df.rdd.map(tuple)\n",
    "test.take(10)"
   ]
  },
  {
   "cell_type": "code",
   "execution_count": 44,
   "metadata": {
    "ExecuteTime": {
     "end_time": "2018-08-03T12:14:23.963546Z",
     "start_time": "2018-08-03T12:14:23.928966Z"
    }
   },
   "outputs": [],
   "source": [
    "trial = locationTweets.join(test)"
   ]
  },
  {
   "cell_type": "raw",
   "metadata": {},
   "source": [
    "d"
   ]
  },
  {
   "cell_type": "code",
   "execution_count": 45,
   "metadata": {
    "ExecuteTime": {
     "end_time": "2018-08-03T12:14:25.337895Z",
     "start_time": "2018-08-03T12:14:24.813041Z"
    }
   },
   "outputs": [
    {
     "data": {
      "text/plain": [
       "[('0150000-01097002900', (1, 3667)),\n",
       " ('0412000-04013810500', (1, 5168)),\n",
       " ('0412000-04013812100', (1, 6092)),\n",
       " ('0427400-04013422606', (2, 9135)),\n",
       " ('0427820-04013092716', (2, 3908)),\n",
       " ('0455000-04013618500', (1, 3647)),\n",
       " ('0477000-04019001100', (1, 2900)),\n",
       " ('0606000-06001422600', (1, 1215)),\n",
       " ('0613392-06073013313', (1, 9464)),\n",
       " ('0616350-06065040821', (1, 5691))]"
      ]
     },
     "execution_count": 45,
     "metadata": {},
     "output_type": "execute_result"
    }
   ],
   "source": [
    "trial.take(10)"
   ]
  },
  {
   "cell_type": "code",
   "execution_count": 97,
   "metadata": {
    "ExecuteTime": {
     "end_time": "2018-08-03T13:21:25.589178Z",
     "start_time": "2018-08-03T13:21:25.013773Z"
    }
   },
   "outputs": [
    {
     "data": {
      "text/plain": [
       "[('0137000-01089000202', 0.0),\n",
       " ('0137000-01089001500', 0.0),\n",
       " ('0150000-01097002900', 0.0),\n",
       " ('0150000-01097003605', 0.0),\n",
       " ('0151000-01101002400', 0.0),\n",
       " ('0151000-01101002800', 0.0),\n",
       " ('0177256-01125012405', 0.0),\n",
       " ('0404720-04013082027', 0.0),\n",
       " ('0412000-04013810500', 0.0),\n",
       " ('0412000-04013812100', 0.0),\n",
       " ('0427400-04013422606', 0.0),\n",
       " ('0427820-04013092716', 0.0),\n",
       " ('0427820-04013104214', 0.0),\n",
       " ('0446000-04013420303', 0.0),\n",
       " ('0446000-04013422104', 0.0),\n",
       " ('0454050-04013610900', 0.0),\n",
       " ('0455000-04013103611', 0.0),\n",
       " ('0455000-04013114100', 0.0),\n",
       " ('0455000-04013116100', 0.0),\n",
       " ('0455000-04013116604', 0.0),\n",
       " ('0455000-04013618500', 0.0),\n",
       " ('0473000-04013318800', 0.0),\n",
       " ('0473000-04013319000', 0.0),\n",
       " ('0473000-04013319104', 0.0),\n",
       " ('0473000-04013320100', 0.0),\n",
       " ('0477000-04019000700', 0.0),\n",
       " ('0477000-04019001100', 0.0),\n",
       " ('0477000-04019004029', 0.0),\n",
       " ('0485540-04027000301', 0.0),\n",
       " ('0541000-05119001900', 0.0),\n",
       " ('0602252-06013307205', 0.0),\n",
       " ('0603526-06029002400', 0.0),\n",
       " ('0606000-06001422600', 0.0),\n",
       " ('0608954-06037311802', 0.0),\n",
       " ('0611530-06037543321', 0.0),\n",
       " ('0613392-06073013309', 0.0),\n",
       " ('0613392-06073013313', 0.0),\n",
       " ('0616000-06013334004', 0.0),\n",
       " ('0616000-06013337200', 0.0),\n",
       " ('0616350-06065040821', 0.0),\n",
       " ('0621712-06073015701', 0.0),\n",
       " ('0622020-06067009635', 0.0),\n",
       " ('0624638-06067008402', 0.0),\n",
       " ('0627000-06019002601', 0.0),\n",
       " ('0627000-06019005302', 0.0),\n",
       " ('0627000-06019005510', 0.0),\n",
       " ('0628000-06059011504', 0.0),\n",
       " ('0632548-06037602106', 0.0),\n",
       " ('0632548-06037602302', 0.0),\n",
       " ('0632548-06037602402', 0.0),\n",
       " ('0632548-06037602403', 0.0),\n",
       " ('0636000-06059099604', 0.0),\n",
       " ('0636448-06065049100', 0.0),\n",
       " ('0636770-06059062612', 0.0),\n",
       " ('0639892-06037555001', 0.0),\n",
       " ('0639892-06037555002', 0.0),\n",
       " ('0639892-06037555102', 0.0),\n",
       " ('0640130-06037901205', 0.0),\n",
       " ('0641992-06001451201', 0.0),\n",
       " ('0643000-06037570501', 0.0),\n",
       " ('0643000-06037575902', 0.0),\n",
       " ('0644000-06037106405', 0.0),\n",
       " ('0644000-06037111301', 0.0),\n",
       " ('0644000-06037119342', 0.0),\n",
       " ('0644000-06037119400', 0.0),\n",
       " ('0644000-06037119700', 0.0),\n",
       " ('0644000-06037120105', 0.0),\n",
       " ('0644000-06037141102', 0.0),\n",
       " ('0644000-06037183510', 0.0),\n",
       " ('0644000-06037199800', 0.0),\n",
       " ('0644000-06037204110', 0.0),\n",
       " ('0644000-06037207302', 0.0),\n",
       " ('0644000-06037207710', 0.0),\n",
       " ('0644000-06037215101', 0.0),\n",
       " ('0644000-06037236000', 0.0),\n",
       " ('0644000-06037240010', 0.0),\n",
       " ('0644000-06037264000', 0.0),\n",
       " ('0644000-06037269907', 0.0),\n",
       " ('0644000-06037293304', 0.0),\n",
       " ('0644000-06037297602', 0.0),\n",
       " ('0644574-06037540102', 0.0),\n",
       " ('0644574-06037541801', 0.0),\n",
       " ('0648354-06099000910', 0.0),\n",
       " ('0649270-06065042621', 0.0),\n",
       " ('0650076-06065043206', 0.0),\n",
       " ('0650076-06065043227', 0.0),\n",
       " ('0650258-06055200802', 0.0),\n",
       " ('0651182-06059062800', 0.0),\n",
       " ('0651182-06059063500', 0.0),\n",
       " ('0652526-06037554600', 0.0),\n",
       " ('0653000-06001409000', 0.0),\n",
       " ('0653000-06001981900', 0.03),\n",
       " ('0653322-06073018601', 0.0),\n",
       " ('0653322-06073019301', 0.0),\n",
       " ('0653896-06071001906', 0.0),\n",
       " ('0653980-06059076206', 0.0),\n",
       " ('0653980-06059076208', 0.0),\n",
       " ('0654652-06111003605', 0.0),\n",
       " ('0654652-06111004000', 0.0),\n",
       " ('0654652-06111004506', 0.0),\n",
       " ('0655156-06037910715', 0.0),\n",
       " ('0659451-06071002021', 0.0),\n",
       " ('0659962-06071008001', 0.0),\n",
       " ('0662000-06065030104', 0.0),\n",
       " ('0662000-06065030603', 0.0),\n",
       " ('0662000-06065031200', 0.0),\n",
       " ('0662000-06065041202', 0.0),\n",
       " ('0662000-06065042012', 0.0),\n",
       " ('0664000-06067002100', 0.0),\n",
       " ('0664224-06053000300', 0.0),\n",
       " ('0664224-06053001400', 0.0),\n",
       " ('0665000-06071004510', 0.0),\n",
       " ('0666000-06073002702', 0.0),\n",
       " ('0666000-06073002705', 0.0),\n",
       " ('0666000-06073003213', 0.0),\n",
       " ('0666000-06073003304', 0.0),\n",
       " ('0666000-06073008350', 0.0),\n",
       " ('0666000-06073009506', 0.0),\n",
       " ('0666000-06073009603', 0.0),\n",
       " ('0666000-06073010010', 0.0),\n",
       " ('0666000-06073010014', 0.0),\n",
       " ('0666000-06073021500', 0.0),\n",
       " ('0667000-06075012100', 0.0),\n",
       " ('0667000-06075016700', 0.0),\n",
       " ('0667000-06075025403', 0.0),\n",
       " ('0668000-06085500902', 0.0),\n",
       " ('0668000-06085502102', 0.0),\n",
       " ('0668000-06085502903', 0.0),\n",
       " ('0668000-06085503121', 0.0),\n",
       " ('0668000-06085503803', 0.0),\n",
       " ('0668000-06085512042', 0.0),\n",
       " ('0668084-06001432200', 0.0),\n",
       " ('0668196-06073020025', 0.0),\n",
       " ('0669000-06059089104', 0.0),\n",
       " ('0669088-06037920109', 0.0),\n",
       " ('0672016-06111007507', 0.0),\n",
       " ('0675000-06077003310', 0.0),\n",
       " ('0675000-06077003801', 0.0),\n",
       " ('0680000-06037651101', 0.0),\n",
       " ('0680238-06077005302', 0.0),\n",
       " ('0682996-06073020017', 0.0),\n",
       " ('0684200-06037406200', 0.0),\n",
       " ('0685292-06037501504', 0.0),\n",
       " ('0804000-08005007105', 0.0),\n",
       " ('0804000-08005080400', 0.0),\n",
       " ('0804000-08005081000', 0.0),\n",
       " ('0816000-08041006100', 0.0),\n",
       " ('0816000-08041006501', 0.0),\n",
       " ('0816000-08041007800', 0.0),\n",
       " ('0820000-08031001902', 0.0),\n",
       " ('0820000-08031008390', 0.0),\n",
       " ('0832155-08123001300', 0.0),\n",
       " ('0845970-08013013506', 0.0),\n",
       " ('0937000-09003502700', 0.0),\n",
       " ('0952000-09009141300', 0.0),\n",
       " ('0980000-09009351000', 0.0),\n",
       " ('1150000-11001003400', 0.0),\n",
       " ('1150000-11001006202', 0.03),\n",
       " ('1150000-11001009504', 0.0),\n",
       " ('1150000-11001010500', 0.0),\n",
       " ('1207300-12099007203', 0.0),\n",
       " ('1224000-12011041600', 0.0),\n",
       " ('1225175-12001000200', 0.0),\n",
       " ('1230000-12086000603', 0.0),\n",
       " ('1235000-12031013521', 0.0),\n",
       " ('1235000-12031013904', 0.0),\n",
       " ('1235000-12031016806', 0.0),\n",
       " ('1245000-12086002100', 0.0),\n",
       " ('1253000-12095014608', 0.0),\n",
       " ('1253000-12095018400', 0.0),\n",
       " ('1255775-12011110328', 0.0),\n",
       " ('1258050-12011030802', 0.0),\n",
       " ('1263000-12103024410', 0.0),\n",
       " ('1270600-12073001300', 0.0),\n",
       " ('1271000-12057005000', 0.0),\n",
       " ('1319000-13215001000', 0.0),\n",
       " ('1349000-13021012800', 0.0),\n",
       " ('1368516-13121010110', 0.0),\n",
       " ('1608830-16001010331', 0.0),\n",
       " ('1652120-16001010313', 0.0),\n",
       " ('1652120-16001010335', 0.0),\n",
       " ('1656260-16027020902', 0.0),\n",
       " ('1712385-17019000902', 0.0),\n",
       " ('1714000-17031071100', 0.0),\n",
       " ('1714000-17031081500', 0.0),\n",
       " ('1714000-17031671300', 0.0),\n",
       " ('1714000-17031710100', 0.0),\n",
       " ('1714000-17031832000', 0.0),\n",
       " ('1714000-17031832500', 0.0),\n",
       " ('1714000-17031842400', 0.0),\n",
       " ('1714351-17031814200', 0.0),\n",
       " ('1724582-17031809400', 0.0),\n",
       " ('1738570-17197882801', 0.0),\n",
       " ('1779293-17097862604', 0.0),\n",
       " ('1779293-17097866100', 0.0),\n",
       " ('1805860-18105000202', 0.0),\n",
       " ('1825000-18003002300', 0.0),\n",
       " ('1825000-18003004300', 0.0),\n",
       " ('1825000-18003010602', 0.0),\n",
       " ('1836003-18097320304', 0.0),\n",
       " ('1836003-18097320400', 0.0),\n",
       " ('1836003-18097356900', 0.0),\n",
       " ('1836003-18097361000', 0.0),\n",
       " ('1836003-18097380502', 0.0),\n",
       " ('1836003-18097391000', 0.0),\n",
       " ('1851876-18035001400', 0.0),\n",
       " ('1921000-19153010802', 0.0),\n",
       " ('1982425-19013001900', 0.0),\n",
       " ('2036000-20209044703', 0.0),\n",
       " ('2036000-20209045200', 0.0),\n",
       " ('2038900-20045000901', 0.0),\n",
       " ('2052575-20091053505', 0.0),\n",
       " ('2079000-20173008300', 0.0),\n",
       " ('2079000-20173009503', 0.0),\n",
       " ('2079000-20173010003', 0.0),\n",
       " ('2146027-21067001700', 0.0),\n",
       " ('2146027-21067003704', 0.0),\n",
       " ('2148006-21111009000', 0.0),\n",
       " ('2148006-21111011505', 0.0),\n",
       " ('2148006-21111011508', 0.0),\n",
       " ('2205000-22033001104', 0.0),\n",
       " ('2205000-22033003103', 0.0),\n",
       " ('2205000-22033003601', 0.0),\n",
       " ('2239475-22051020514', 0.0),\n",
       " ('2241155-22019001100', 0.0),\n",
       " ('2255000-22071003303', 0.0),\n",
       " ('2255000-22071013301', 0.0),\n",
       " ('2404000-24510020300', 0.0),\n",
       " ('2404000-24510040100', 0.0),\n",
       " ('2404000-24510250103', 0.0),\n",
       " ('2507000-25025030300', 0.0),\n",
       " ('2507000-25025050700', 0.0),\n",
       " ('2507000-25025091600', 0.0),\n",
       " ('2511000-25017352600', 0.0),\n",
       " ('2511000-25017353500', 0.0),\n",
       " ('2545560-25017374000', 0.0),\n",
       " ('2555745-25021417802', 0.0),\n",
       " ('2567000-25013801601', 0.0),\n",
       " ('2582000-25027731600', 0.0),\n",
       " ('2621000-26163575400', 0.0),\n",
       " ('2634000-26081001800', 0.0),\n",
       " ('2642160-26077000500', 0.0),\n",
       " ('2649000-26163558000', 0.0),\n",
       " ('2686000-26163565300', 0.0),\n",
       " ('2717000-27137002400', 0.0),\n",
       " ('2743000-27053100700', 0.0),\n",
       " ('2743000-27053108700', 0.0),\n",
       " ('2758000-27123036700', 0.0),\n",
       " ('2915670-29019001202', 0.0),\n",
       " ('2935000-29095011500', 0.0),\n",
       " ('2941348-29095018200', 0.0),\n",
       " ('2965000-29510101200', 0.0),\n",
       " ('2965000-29510117400', 0.0),\n",
       " ('2970000-29077000200', 0.0),\n",
       " ('2970000-29077004103', 0.0),\n",
       " ('3006550-30111000705', 0.0),\n",
       " ('3050200-30063000202', 0.0),\n",
       " ('3128000-31109003003', 0.0),\n",
       " ('3128000-31109003301', 0.0),\n",
       " ('3231900-32003005315', 0.0),\n",
       " ('3231900-32003005343', 0.0),\n",
       " ('3240000-32003001100', 0.0),\n",
       " ('3240000-32003003236', 0.0),\n",
       " ('3251800-32003003618', 0.0),\n",
       " ('3251800-32003003629', 0.0),\n",
       " ('3268400-32031001901', 0.0),\n",
       " ('3413690-34031124200', 0.0),\n",
       " ('3413690-34031124700', 0.0),\n",
       " ('3451000-34013008700', 0.0),\n",
       " ('3451000-34013980200', 0.0),\n",
       " ('3457000-34031181300', 0.0),\n",
       " ('3457000-34031182302', 0.0),\n",
       " ('3474630-34017016800', 0.0),\n",
       " ('3502000-35001001200', 0.0),\n",
       " ('3539380-35013001304', 0.0),\n",
       " ('3601000-36001001901', 0.0),\n",
       " ('3611000-36029005202', 0.0),\n",
       " ('3650617-36119006100', 0.0),\n",
       " ('3651000-36005011800', 0.0),\n",
       " ('3651000-36005029302', 0.0),\n",
       " ('3651000-36005030900', 0.0),\n",
       " ('3651000-36005039300', 0.0),\n",
       " ('3651000-36047042700', 0.0),\n",
       " ('3651000-36047049100', 0.0),\n",
       " ('3651000-36061001600', 0.0),\n",
       " ('3651000-36061005501', 0.0),\n",
       " ('3651000-36061008800', 0.0),\n",
       " ('3651000-36061023000', 0.0),\n",
       " ('3651000-36081014700', 0.0),\n",
       " ('3651000-36081017900', 0.0),\n",
       " ('3651000-36081029700', 0.0),\n",
       " ('3651000-36085027302', 0.0),\n",
       " ('3651000-36085029104', 0.0),\n",
       " ('3665508-36093020700', 0.0),\n",
       " ('3684000-36119000900', 0.0),\n",
       " ('3702140-37021000400', 0.0),\n",
       " ('3712000-37119000400', 0.0),\n",
       " ('3712000-37119005401', 0.0),\n",
       " ('3712000-37119005618', 0.0),\n",
       " ('3728000-37081011000', 0.0),\n",
       " ('3731400-37081014411', 0.0),\n",
       " ('3775000-37067000500', 0.0),\n",
       " ('3825700-38017000801', 0.0),\n",
       " ('3901000-39153506400', 0.0),\n",
       " ('4164900-41053005300', 0.0),\n",
       " ('4260000-42101003001', 0.0),\n",
       " ('4454640-44007016800', 0.0),\n",
       " ('4548535-45019004610', 0.0),\n",
       " ('4805000-48453000302', 0.0),\n",
       " ('4845000-48303001601', 0.0),\n",
       " ('4965330-49053270300', 0.0),\n",
       " ('5370000-53053060200', 0.0),\n",
       " ('5553000-55079020900', 0.0)]"
      ]
     },
     "execution_count": 97,
     "metadata": {},
     "output_type": "execute_result"
    }
   ],
   "source": [
    "trial.mapValues(lambda x: round(x[0]/x[1], 2)).sortByKey().collect()"
   ]
  },
  {
   "cell_type": "code",
   "execution_count": 31,
   "metadata": {
    "ExecuteTime": {
     "end_time": "2018-08-03T12:04:32.399631Z",
     "start_time": "2018-08-03T12:04:31.943818Z"
    }
   },
   "outputs": [
    {
     "name": "stdout",
     "output_type": "stream",
     "text": [
      "+-------------------+----------+\n",
      "|         plctract10|plctrpop10|\n",
      "+-------------------+----------+\n",
      "|0107000-01073005910|      4612|\n",
      "|0107000-01073010801|       168|\n",
      "|0107000-01073012701|        44|\n",
      "|0107000-01073012703|       498|\n",
      "|0107000-01073012704|       113|\n",
      "|0135896-01073012704|        27|\n",
      "|0135896-01073012907|      2696|\n",
      "|0135896-01073014409|      3266|\n",
      "|0135896-01117030217|      4878|\n",
      "|0135896-01117030303|      2728|\n",
      "|0135896-01117030304|      3288|\n",
      "|0137000-01089010612|      2654|\n",
      "|0137000-01089010622|      8725|\n",
      "|0137000-01089010800|       860|\n",
      "|0137000-01089010901|     11386|\n",
      "|0150000-01097001502|      1608|\n",
      "|0473000-04013421201|      1342|\n",
      "|0477000-04019001100|      2900|\n",
      "|0137000-01089010902|        49|\n",
      "|0477000-04019003600|      4552|\n",
      "+-------------------+----------+\n",
      "only showing top 20 rows\n",
      "\n"
     ]
    }
   ],
   "source": [
    "spark_df.show()"
   ]
  },
  {
   "cell_type": "code",
   "execution_count": null,
   "metadata": {},
   "outputs": [],
   "source": []
  }
 ],
 "metadata": {
  "kernelspec": {
   "display_name": "Python 3",
   "language": "python",
   "name": "python3"
  },
  "language_info": {
   "codemirror_mode": {
    "name": "ipython",
    "version": 3
   },
   "file_extension": ".py",
   "mimetype": "text/x-python",
   "name": "python",
   "nbconvert_exporter": "python",
   "pygments_lexer": "ipython3",
   "version": "3.6.2"
  }
 },
 "nbformat": 4,
 "nbformat_minor": 2
}
